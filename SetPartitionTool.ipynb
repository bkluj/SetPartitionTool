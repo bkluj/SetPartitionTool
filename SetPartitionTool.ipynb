{
 "cells": [
  {
   "cell_type": "code",
   "id": "initial_id",
   "metadata": {
    "collapsed": true,
    "ExecuteTime": {
     "end_time": "2025-02-05T20:31:11.885791Z",
     "start_time": "2025-02-05T20:31:10.940370Z"
    }
   },
   "source": "!pip install numpy",
   "outputs": [
    {
     "name": "stdout",
     "output_type": "stream",
     "text": [
      "Requirement already satisfied: numpy in ./.venv/lib/python3.10/site-packages (2.2.2)\r\n",
      "\r\n",
      "\u001B[1m[\u001B[0m\u001B[34;49mnotice\u001B[0m\u001B[1;39;49m]\u001B[0m\u001B[39;49m A new release of pip is available: \u001B[0m\u001B[31;49m23.2.1\u001B[0m\u001B[39;49m -> \u001B[0m\u001B[32;49m25.0\u001B[0m\r\n",
      "\u001B[1m[\u001B[0m\u001B[34;49mnotice\u001B[0m\u001B[1;39;49m]\u001B[0m\u001B[39;49m To update, run: \u001B[0m\u001B[32;49mpip install --upgrade pip\u001B[0m\r\n"
     ]
    }
   ],
   "execution_count": 4
  },
  {
   "metadata": {
    "ExecuteTime": {
     "end_time": "2025-02-05T20:31:11.892054Z",
     "start_time": "2025-02-05T20:31:11.889831Z"
    }
   },
   "cell_type": "code",
   "source": "import numpy as np",
   "id": "839c9e92a0f2ea1f",
   "outputs": [],
   "execution_count": 5
  },
  {
   "metadata": {
    "ExecuteTime": {
     "end_time": "2025-02-05T20:31:11.937005Z",
     "start_time": "2025-02-05T20:31:11.934560Z"
    }
   },
   "cell_type": "code",
   "source": [
    "dataset_path = './home'\n",
    "partitioned_data_path = './partitioned_data'"
   ],
   "id": "d19934fdb26f9de7",
   "outputs": [],
   "execution_count": 6
  },
  {
   "metadata": {
    "ExecuteTime": {
     "end_time": "2025-02-05T20:31:11.983676Z",
     "start_time": "2025-02-05T20:31:11.980996Z"
    }
   },
   "cell_type": "code",
   "source": [
    "training_set_prop = 0.8\n",
    "test_set_prop = 0.1\n",
    "validation_set_prop = 0.1"
   ],
   "id": "9b1d020a0a3085a5",
   "outputs": [],
   "execution_count": 7
  },
  {
   "metadata": {
    "ExecuteTime": {
     "end_time": "2025-02-05T20:31:12.029228Z",
     "start_time": "2025-02-05T20:31:12.026915Z"
    }
   },
   "cell_type": "code",
   "source": [
    "def data_partition(dataset_path, partitioned_data_path, training_set_prop, test_set_prop, validation_set_prop):\n",
    "    np.random.randint()"
   ],
   "id": "1ef450b363556caa",
   "outputs": [],
   "execution_count": 8
  }
 ],
 "metadata": {
  "kernelspec": {
   "display_name": "Python 3",
   "language": "python",
   "name": "python3"
  },
  "language_info": {
   "codemirror_mode": {
    "name": "ipython",
    "version": 2
   },
   "file_extension": ".py",
   "mimetype": "text/x-python",
   "name": "python",
   "nbconvert_exporter": "python",
   "pygments_lexer": "ipython2",
   "version": "2.7.6"
  }
 },
 "nbformat": 4,
 "nbformat_minor": 5
}
