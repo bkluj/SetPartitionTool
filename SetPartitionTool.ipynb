{
 "cells": [
  {
   "cell_type": "code",
   "id": "initial_id",
   "metadata": {
    "collapsed": true,
    "ExecuteTime": {
     "end_time": "2025-02-05T20:31:11.885791Z",
     "start_time": "2025-02-05T20:31:10.940370Z"
    }
   },
   "source": "!pip install numpy",
   "outputs": [
    {
     "name": "stdout",
     "output_type": "stream",
     "text": [
      "Requirement already satisfied: numpy in ./.venv/lib/python3.10/site-packages (2.2.2)\r\n",
      "\r\n",
      "\u001B[1m[\u001B[0m\u001B[34;49mnotice\u001B[0m\u001B[1;39;49m]\u001B[0m\u001B[39;49m A new release of pip is available: \u001B[0m\u001B[31;49m23.2.1\u001B[0m\u001B[39;49m -> \u001B[0m\u001B[32;49m25.0\u001B[0m\r\n",
      "\u001B[1m[\u001B[0m\u001B[34;49mnotice\u001B[0m\u001B[1;39;49m]\u001B[0m\u001B[39;49m To update, run: \u001B[0m\u001B[32;49mpip install --upgrade pip\u001B[0m\r\n"
     ]
    }
   ],
   "execution_count": 4
  },
  {
   "metadata": {
    "ExecuteTime": {
     "end_time": "2025-02-06T09:30:17.439040Z",
     "start_time": "2025-02-06T09:30:17.401372Z"
    }
   },
   "cell_type": "code",
   "source": [
    "import os\n",
    "import shutil\n",
    "import numpy as np"
   ],
   "id": "839c9e92a0f2ea1f",
   "outputs": [],
   "execution_count": 2
  },
  {
   "metadata": {
    "ExecuteTime": {
     "end_time": "2025-02-05T20:31:11.937005Z",
     "start_time": "2025-02-05T20:31:11.934560Z"
    }
   },
   "cell_type": "code",
   "source": [
    "# Paths\n",
    "dataset_path = '/media/bartek/889CBCD79CBCC14C/Dataset/mug/'  # Original dataset path\n",
    "partitioned_data_path = '/media/bartek/889CBCD79CBCC14C/Dataset/'  # Destination path\n"
   ],
   "id": "d19934fdb26f9de7",
   "outputs": [],
   "execution_count": 6
  },
  {
   "metadata": {
    "ExecuteTime": {
     "end_time": "2025-02-05T20:31:11.983676Z",
     "start_time": "2025-02-05T20:31:11.980996Z"
    }
   },
   "cell_type": "code",
   "source": [
    "# Partition proportions\n",
    "training_set_prop = 0.8  # Train set\n",
    "validation_set_prop = 0.1  # Val set\n",
    "dev_set_prop = 0.1  # Dev set (previously test)"
   ],
   "id": "9b1d020a0a3085a5",
   "outputs": [],
   "execution_count": 7
  },
  {
   "metadata": {
    "ExecuteTime": {
     "end_time": "2025-02-05T20:31:12.029228Z",
     "start_time": "2025-02-05T20:31:12.026915Z"
    }
   },
   "cell_type": "code",
   "source": [
    "def data_partition(dataset_path, partitioned_data_path, training_set_prop, validation_set_prop, dev_set_prop):\n",
    "    # Ensure the sum of proportions is 1\n",
    "    assert training_set_prop + validation_set_prop + dev_set_prop == 1, \"Proportions must sum to 1\"\n",
    "\n",
    "    # Extract dataset folder name (e.g., 'mug' from path)\n",
    "    dataset_name = os.path.basename(os.path.normpath(dataset_path))\n",
    "\n",
    "    # Create partitioned dataset folder (e.g., 'mug_partitioned')\n",
    "    partitioned_dataset_path = os.path.join(partitioned_data_path, f\"{dataset_name}_partitioned\")\n",
    "    os.makedirs(partitioned_dataset_path, exist_ok=True)\n",
    "\n",
    "    # Create necessary directories only if their proportion is greater than 0\n",
    "    dirs = {\n",
    "        \"train\": os.path.join(partitioned_dataset_path, 'train') if training_set_prop > 0 else None,\n",
    "        \"val\": os.path.join(partitioned_dataset_path, 'val') if validation_set_prop > 0 else None,\n",
    "        \"dev\": os.path.join(partitioned_dataset_path, 'dev') if dev_set_prop > 0 else None\n",
    "    }\n",
    "\n",
    "    for key, path in dirs.items():\n",
    "        if path:  # Create only if needed\n",
    "            os.makedirs(path, exist_ok=True)\n",
    "\n",
    "    # Get all image filenames, including .heic\n",
    "    valid_extensions = ('.png', '.jpg', '.jpeg', '.heic')\n",
    "    all_images = [f for f in os.listdir(dataset_path) if f.lower().endswith(valid_extensions)]\n",
    "    np.random.shuffle(all_images)  # Shuffle images\n",
    "\n",
    "    # Compute split sizes\n",
    "    total_images = len(all_images)\n",
    "    train_size = int(training_set_prop * total_images)\n",
    "    val_size = int(validation_set_prop * total_images)\n",
    "    dev_size = total_images - train_size - val_size  # Ensures all images are used\n",
    "\n",
    "    # Partition dataset\n",
    "    partitions = {\n",
    "        \"train\": all_images[:train_size] if training_set_prop > 0 else [],\n",
    "        \"val\": all_images[train_size:train_size + val_size] if validation_set_prop > 0 else [],\n",
    "        \"dev\": all_images[train_size + val_size:] if dev_set_prop > 0 else []\n",
    "    }\n",
    "\n",
    "    # Copy files (instead of moving them)\n",
    "    for key, images in partitions.items():\n",
    "        if dirs[key]:  # Check if the directory exists\n",
    "            for img in images:\n",
    "                shutil.copy(os.path.join(dataset_path, img), os.path.join(dirs[key], img))\n",
    "\n",
    "    print(f\"Partitioning complete in '{partitioned_dataset_path}': {train_size} train, {val_size} val, {dev_size} dev images.\")\n",
    "\n",
    "# Run partitioning\n",
    "data_partition(dataset_path, partitioned_data_path, training_set_prop, validation_set_prop, dev_set_prop)\n"
   ],
   "id": "1ef450b363556caa",
   "outputs": [],
   "execution_count": 8
  }
 ],
 "metadata": {
  "kernelspec": {
   "display_name": "Python 3",
   "language": "python",
   "name": "python3"
  },
  "language_info": {
   "codemirror_mode": {
    "name": "ipython",
    "version": 2
   },
   "file_extension": ".py",
   "mimetype": "text/x-python",
   "name": "python",
   "nbconvert_exporter": "python",
   "pygments_lexer": "ipython2",
   "version": "2.7.6"
  }
 },
 "nbformat": 4,
 "nbformat_minor": 5
}
